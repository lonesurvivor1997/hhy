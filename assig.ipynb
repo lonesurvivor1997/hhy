{
 "cells": [
  {
   "cell_type": "code",
   "execution_count": null,
   "id": "de6ee753",
   "metadata": {},
   "outputs": [],
   "source": [
    "# Q4"
   ]
  },
  {
   "cell_type": "code",
   "execution_count": 52,
   "id": "858a99fd",
   "metadata": {},
   "outputs": [
    {
     "data": {
      "application/javascript": [
       "let a = \"aabbccddtyyuuioop\"\n",
       "let temp = a.slice(\"\")\n",
       "let x =\"\"\n",
       "for(let i = 0;i<temp.length;i++){\n",
       "   var l = 0;\n",
       "  for(let j =0;j<temp.length;j++){\n",
       "   \n",
       "    if(temp[i] == temp[j]){\n",
       "      l = l+1;\n",
       "    }\n",
       "  }if(l == 1){\n",
       "    console.log(temp[i])\n",
       "      x = temp[i]\n",
       "    break\n",
       "  }\n",
       "}\n",
       "element.text(x)\n"
      ],
      "text/plain": [
       "<IPython.core.display.Javascript object>"
      ]
     },
     "metadata": {},
     "output_type": "display_data"
    }
   ],
   "source": [
    "\n",
    "%%js\n",
    "let a = \"aabbccddtyyuuioop\"\n",
    "let temp = a.slice(\"\")\n",
    "let x =\"\"\n",
    "for(let i = 0;i<temp.length;i++){\n",
    "   var l = 0;\n",
    "  for(let j =0;j<temp.length;j++){\n",
    "   \n",
    "    if(temp[i] == temp[j]){\n",
    "      l = l+1;\n",
    "    }\n",
    "  }if(l == 1){\n",
    "    console.log(temp[i])\n",
    "      x = temp[i]\n",
    "    break\n",
    "  }\n",
    "}\n",
    "element.text(x)"
   ]
  },
  {
   "cell_type": "code",
   "execution_count": null,
   "id": "17ef4da7",
   "metadata": {},
   "outputs": [],
   "source": [
    "# Q3"
   ]
  },
  {
   "cell_type": "code",
   "execution_count": 50,
   "id": "e2813f7d",
   "metadata": {},
   "outputs": [
    {
     "data": {
      "application/javascript": [
       "function rotation(str1, str2) {\n",
       "  var str = str1 + str1;\n",
       "  return str.includes(str2);\n",
       "}\n",
       "\n",
       "element.text(rotation(\"abcd\", \"bcda\"));\n"
      ],
      "text/plain": [
       "<IPython.core.display.Javascript object>"
      ]
     },
     "metadata": {},
     "output_type": "display_data"
    }
   ],
   "source": [
    "%%js\n",
    "function rotation(str1, str2) {\n",
    "  var str = str1 + str1;\n",
    "  return str.includes(str2);\n",
    "}\n",
    "\n",
    "element.text(rotation(\"abcd\", \"bcda\"));"
   ]
  },
  {
   "cell_type": "code",
   "execution_count": null,
   "id": "c118f59a",
   "metadata": {},
   "outputs": [],
   "source": [
    "# Q2"
   ]
  },
  {
   "cell_type": "code",
   "execution_count": 53,
   "id": "84a743b0",
   "metadata": {},
   "outputs": [
    {
     "data": {
      "application/javascript": [
       "let a = [1,2,3,4,5,8,9,10,41,40];\n",
       "for (let i = 0; i < a.length/2; i++) {\n",
       "  let temp = a[i];\n",
       "  a[i] = a[a.length - 1-i];\n",
       "  console.log(a.length - i);\n",
       "  a[a.length -1- i] = temp;\n",
       "}\n",
       "element.text(a)\n"
      ],
      "text/plain": [
       "<IPython.core.display.Javascript object>"
      ]
     },
     "metadata": {},
     "output_type": "display_data"
    }
   ],
   "source": [
    "%%js\n",
    "let a = [1,2,3,4,5,8,9,10,41,40];\n",
    "for (let i = 0; i < a.length/2; i++) {\n",
    "  let temp = a[i];\n",
    "  a[i] = a[a.length - 1-i];\n",
    "  console.log(a.length - i);\n",
    "  a[a.length -1- i] = temp;\n",
    "}\n",
    "element.text(a)"
   ]
  },
  {
   "cell_type": "code",
   "execution_count": null,
   "id": "2e302720",
   "metadata": {},
   "outputs": [],
   "source": [
    "# Q1"
   ]
  },
  {
   "cell_type": "code",
   "execution_count": 34,
   "id": "dabcf30d",
   "metadata": {},
   "outputs": [
    {
     "data": {
      "application/javascript": [
       "let a = [5, 2, 6, 4, 1, 3, 9, 8, 5, 2 ,3 , 4 , 6,1];\n",
       "let b = 7;\n",
       "let temp = a;\n",
       "let r = [];\n",
       "for (let i = 0; i < a.length; i++) {\n",
       "  for (let j = 0; j < temp.length; j++) {\n",
       "    if (temp[i] + temp[j] == b) {\n",
       "      console.log(temp[i] + \",\" + temp[j])\n",
       "      var w = temp[i] + \",\" + temp[j]\n",
       "      r.push(w)\n",
       "      i = 0;\n",
       "      temp.splice(j, 1);\n",
       "      temp.splice(i, 1)\n",
       "\n",
       "    }\n",
       "  }\n",
       "}\n",
       "element.text(r)\n"
      ],
      "text/plain": [
       "<IPython.core.display.Javascript object>"
      ]
     },
     "metadata": {},
     "output_type": "display_data"
    }
   ],
   "source": [
    "\n",
    "%%javascript\n",
    "let a = [5, 2, 6, 4, 1, 3, 9, 8, 5, 2 ,3 , 4 , 6,1];\n",
    "let b = 7;\n",
    "let temp = a;\n",
    "let r = [];\n",
    "for (let i = 0; i < a.length; i++) {\n",
    "  for (let j = 0; j < temp.length; j++) {\n",
    "    if (temp[i] + temp[j] == b) {\n",
    "      console.log(temp[i] + \",\" + temp[j])\n",
    "      var w = temp[i] + \",\" + temp[j]\n",
    "      r.push(w)\n",
    "      i = 0;\n",
    "      temp.splice(j, 1);\n",
    "      temp.splice(i, 1)\n",
    "\n",
    "    }\n",
    "  }\n",
    "}\n",
    "element.text(r)"
   ]
  },
  {
   "cell_type": "code",
   "execution_count": null,
   "id": "ab97afea",
   "metadata": {},
   "outputs": [],
   "source": [
    "# Q6"
   ]
  },
  {
   "cell_type": "code",
   "execution_count": 38,
   "id": "067c445c",
   "metadata": {},
   "outputs": [
    {
     "data": {
      "application/javascript": [
       "let o = \"ABC/-AK/L-*\";\n",
       "function isAlpha(x) {\n",
       "  switch (x) {\n",
       "    case '+':\n",
       "    case '-':\n",
       "    case '/':\n",
       "    case '*':\n",
       "      return true;\n",
       "  }\n",
       "  return false;\n",
       "}\n",
       "let s = [];\n",
       "for (let i = 0; i < o.length ; i++) {\n",
       "\n",
       "  if (isAlpha(o[i])) {\n",
       "    let a = s[s.length-1];\n",
       "    s.pop();\n",
       "    let b = s[s.length-1]\n",
       "    s.pop();\n",
       "    let y = o[i] + b + a;\n",
       "    s.push(y);\n",
       "\n",
       "  }\n",
       "  else {\n",
       "    s.push(o[i])\n",
       "\n",
       "  }\n",
       "} console.log(s);\n",
       "element.text(s)\n"
      ],
      "text/plain": [
       "<IPython.core.display.Javascript object>"
      ]
     },
     "metadata": {},
     "output_type": "display_data"
    }
   ],
   "source": [
    "%%js\n",
    "let o = \"ABC/-AK/L-*\";\n",
    "function isAlpha(x) {\n",
    "  switch (x) {\n",
    "    case '+':\n",
    "    case '-':\n",
    "    case '/':\n",
    "    case '*':\n",
    "      return true;\n",
    "  }\n",
    "  return false;\n",
    "}\n",
    "let s = [];\n",
    "for (let i = 0; i < o.length ; i++) {\n",
    "\n",
    "  if (isAlpha(o[i])) {\n",
    "    let a = s[s.length-1];\n",
    "    s.pop();\n",
    "    let b = s[s.length-1]\n",
    "    s.pop();\n",
    "    let y = o[i] + b + a;\n",
    "    s.push(y);\n",
    "\n",
    "  }\n",
    "  else {\n",
    "    s.push(o[i])\n",
    "\n",
    "  }\n",
    "} console.log(s);\n",
    "element.text(s)"
   ]
  },
  {
   "cell_type": "code",
   "execution_count": null,
   "id": "4f80b542",
   "metadata": {},
   "outputs": [],
   "source": [
    "# Q10"
   ]
  },
  {
   "cell_type": "code",
   "execution_count": 39,
   "id": "eabfbac7",
   "metadata": {},
   "outputs": [
    {
     "data": {
      "application/javascript": [
       "\tfunction sortstack(stack)\n",
       "\t{\n",
       "\t\tlet t = [];\n",
       "\t\twhile (stack.length > 0)\n",
       "\t\t{\n",
       "\t\t\t\n",
       "\t\t\tlet tmp = stack.pop();\n",
       "\n",
       "\t\t\n",
       "\t\t\twhile (t.length > 0 && t[t.length - 1] > tmp)\n",
       "\t\t\t{\n",
       "\t\n",
       "\t\t\t\tstack.push(t[t.length - 1]);\n",
       "\t\t\t\tt.pop()\n",
       "\t\t\t}\n",
       "\n",
       "\t\t\tt.push(tmp);\n",
       "\t\t}\n",
       "\t\treturn t;\n",
       "\t}\n",
       "\t\n",
       "\tlet stack = [];\n",
       "\tstack.push(34);\n",
       "\tstack.push(3);\n",
       "\tstack.push(31);\n",
       "\tstack.push(98);\n",
       "\tstack.push(92);\n",
       "\tstack.push(23);\n",
       "\n",
       "\tlet t = sortstack(stack);\n",
       "while (t.length > 1)\n",
       "    {\n",
       "        \n",
       "        t.pop();\n",
       "      \n",
       "    }\n",
       "element.text(t)\n",
       "\n",
       "\n"
      ],
      "text/plain": [
       "<IPython.core.display.Javascript object>"
      ]
     },
     "metadata": {},
     "output_type": "display_data"
    }
   ],
   "source": [
    "%%js\n",
    "\tfunction sortstack(stack)\n",
    "\t{\n",
    "\t\tlet t = [];\n",
    "\t\twhile (stack.length > 0)\n",
    "\t\t{\n",
    "\t\t\t\n",
    "\t\t\tlet tmp = stack.pop();\n",
    "\n",
    "\t\t\n",
    "\t\t\twhile (t.length > 0 && t[t.length - 1] > tmp)\n",
    "\t\t\t{\n",
    "\t\n",
    "\t\t\t\tstack.push(t[t.length - 1]);\n",
    "\t\t\t\tt.pop()\n",
    "\t\t\t}\n",
    "\n",
    "\t\t\tt.push(tmp);\n",
    "\t\t}\n",
    "\t\treturn t;\n",
    "\t}\n",
    "\t\n",
    "\tlet stack = [];\n",
    "\tstack.push(34);\n",
    "\tstack.push(3);\n",
    "\tstack.push(31);\n",
    "\tstack.push(98);\n",
    "\tstack.push(92);\n",
    "\tstack.push(23);\n",
    "\n",
    "\tlet t = sortstack(stack);\n",
    "while (t.length > 1)\n",
    "    {\n",
    "        \n",
    "        t.pop();\n",
    "      \n",
    "    }\n",
    "element.text(t)\n",
    "\n",
    "\n"
   ]
  },
  {
   "cell_type": "code",
   "execution_count": null,
   "id": "6088f696",
   "metadata": {},
   "outputs": [],
   "source": [
    "# Q8"
   ]
  },
  {
   "cell_type": "code",
   "execution_count": 42,
   "id": "b29be88f",
   "metadata": {},
   "outputs": [
    {
     "data": {
      "application/javascript": [
       "let a = \"{{{{{{}}}}}}\";\n",
       "let temp = a.split(\"\");\n",
       "let g = 0;let g1 = 0; let g2 = 0;\n",
       "let k = 0;let k1 = 0; let k2 = 0;\n",
       "for (let i = 0; i < temp.length; i++) {\n",
       "  if (temp[i] == \"{\") {\n",
       "    g = g + 1;\n",
       "  }\n",
       "  if (temp[i] == \"}\") {\n",
       "    k = k + 1;\n",
       "  }\n",
       "  if (temp[i] == \"[\") {\n",
       "    g1 = g1 + 1;\n",
       "  }\n",
       "  if (temp[i] == \"]\") {\n",
       "    k1 = k1 + 1;\n",
       "  }\n",
       "  if (temp[i] == \"(\") {\n",
       "    g2 = g2 + 1;\n",
       "  }\n",
       "  if (temp[i] == \")\") {\n",
       "    k2 = k2 + 1;\n",
       "  }\n",
       "}\n",
       "if (k == g && k1 == g1 && k2 == g2) {\n",
       "  element.text(\"barkets are closed properly\")\n",
       "}\n"
      ],
      "text/plain": [
       "<IPython.core.display.Javascript object>"
      ]
     },
     "metadata": {},
     "output_type": "display_data"
    }
   ],
   "source": [
    "%%js\n",
    "let a = \"{{{{{{}}}}}}\";\n",
    "let temp = a.split(\"\");\n",
    "let g = 0;let g1 = 0; let g2 = 0;\n",
    "let k = 0;let k1 = 0; let k2 = 0;\n",
    "for (let i = 0; i < temp.length; i++) {\n",
    "  if (temp[i] == \"{\") {\n",
    "    g = g + 1;\n",
    "  }\n",
    "  if (temp[i] == \"}\") {\n",
    "    k = k + 1;\n",
    "  }\n",
    "  if (temp[i] == \"[\") {\n",
    "    g1 = g1 + 1;\n",
    "  }\n",
    "  if (temp[i] == \"]\") {\n",
    "    k1 = k1 + 1;\n",
    "  }\n",
    "  if (temp[i] == \"(\") {\n",
    "    g2 = g2 + 1;\n",
    "  }\n",
    "  if (temp[i] == \")\") {\n",
    "    k2 = k2 + 1;\n",
    "  }\n",
    "}\n",
    "if (k == g && k1 == g1 && k2 == g2) {\n",
    "  element.text(\"barkets are closed properly\")\n",
    "}"
   ]
  },
  {
   "cell_type": "code",
   "execution_count": 54,
   "id": "5519d533",
   "metadata": {},
   "outputs": [],
   "source": [
    "# Q9"
   ]
  },
  {
   "cell_type": "code",
   "execution_count": 58,
   "id": "cb0d6127",
   "metadata": {},
   "outputs": [
    {
     "data": {
      "application/javascript": [
       "class Queue { \n",
       "    constructor(){  \n",
       "        this.elements = []; \n",
       "    }\n",
       "\n",
       "    enqueue(element){ \n",
       "        this.elements.push(element) \n",
       "    }\n",
       "    \n",
       "    dequeue() {\n",
       "        if(!this.isEmpty()) {\n",
       "              return this.elements.shift();\n",
       "        } else {\n",
       "              return 'Underflow situation';\n",
       "        }\n",
       "    }\n",
       "\n",
       "    isEmpty() {\n",
       "        return this.elements.length == 0;\n",
       "    }\n",
       "}\n",
       "class Stack { \n",
       "    constructor(){  \n",
       "        this.elements = []; \n",
       "    }\n",
       "     isEmpty(){ \n",
       "        return this.elements.length == 0;\n",
       "    }\n",
       "    push(element){ \n",
       "        this.elements.push(element);\n",
       "    }\n",
       "\n",
       "    pop(){ \n",
       "        if(this.isEmpty()) return \"Underflow situation\"; \n",
       "        else return this.elements.pop();\n",
       "    }\n",
       "\n",
       "   \n",
       "\n",
       "    print(){\n",
       "        return this.elements;\n",
       "    }\n",
       "\n",
       "}\n",
       "function reverse(stack){ \n",
       "    const t = new Queue();\n",
       "    while(!stack.isEmpty()){ \n",
       "      t.enqueue(stack.pop()); \n",
       "    } \n",
       "    \n",
       "    while(!t.isEmpty()){ \n",
       "       stack.push(t.dequeue());\n",
       "    }\n",
       "}\n",
       "\n",
       "\n",
       "const stack = new Stack();\n",
       "\n",
       "stack.push('Welcome');\n",
       "stack.push('There');\n",
       "stack.push('Hi');\n",
       "reverse(stack);\n",
       "element.text(stack.print());\n"
      ],
      "text/plain": [
       "<IPython.core.display.Javascript object>"
      ]
     },
     "metadata": {},
     "output_type": "display_data"
    }
   ],
   "source": [
    "%%js\n",
    "class Queue { \n",
    "    constructor(){  \n",
    "        this.elements = []; \n",
    "    }\n",
    "\n",
    "    enqueue(element){ \n",
    "        this.elements.push(element) \n",
    "    }\n",
    "    \n",
    "    dequeue() {\n",
    "        if(!this.isEmpty()) {\n",
    "              return this.elements.shift();\n",
    "        } else {\n",
    "              return 'Underflow situation';\n",
    "        }\n",
    "    }\n",
    "\n",
    "    isEmpty() {\n",
    "        return this.elements.length == 0;\n",
    "    }\n",
    "}\n",
    "class Stack { \n",
    "    constructor(){  \n",
    "        this.elements = []; \n",
    "    }\n",
    "     isEmpty(){ \n",
    "        return this.elements.length == 0;\n",
    "    }\n",
    "    push(element){ \n",
    "        this.elements.push(element);\n",
    "    }\n",
    "\n",
    "    pop(){ \n",
    "        if(this.isEmpty()) return \"Underflow situation\"; \n",
    "        else return this.elements.pop();\n",
    "    }\n",
    "\n",
    "   \n",
    "\n",
    "    print(){\n",
    "        return this.elements;\n",
    "    }\n",
    "\n",
    "}\n",
    "function reverse(stack){ \n",
    "    const t = new Queue();\n",
    "    while(!stack.isEmpty()){ \n",
    "      t.enqueue(stack.pop()); \n",
    "    } \n",
    "    \n",
    "    while(!t.isEmpty()){ \n",
    "       stack.push(t.dequeue());\n",
    "    }\n",
    "}\n",
    "\n",
    "\n",
    "const stack = new Stack();\n",
    "\n",
    "stack.push('Welcome');\n",
    "stack.push('There');\n",
    "stack.push('Hi');\n",
    "reverse(stack);\n",
    "element.text(stack.print());"
   ]
  },
  {
   "cell_type": "code",
   "execution_count": 59,
   "id": "b653a65b",
   "metadata": {},
   "outputs": [],
   "source": [
    "# Q5"
   ]
  },
  {
   "cell_type": "code",
   "execution_count": 70,
   "id": "726f3d16",
   "metadata": {},
   "outputs": [
    {
     "data": {
      "application/javascript": [
       "let X = 3;\n",
       "let o =[];\n",
       "function towerhanoi(x , from , to ,aux){\n",
       "  if(x == 0){\n",
       "    return\n",
       "  }\n",
       "towerhanoi(x - 1 , from , aux , to)\n",
       "let t =\"move disk \" + x + \" from \" + from + \" to \" + to + \"   \" + \" ,\";\n",
       "  o.push(t);\n",
       "towerhanoi(x - 1 , aux , to , from)\n",
       "}\n",
       "let y =towerhanoi(X , 'A' , 'C' , 'B')\n",
       "element.text(o)\n"
      ],
      "text/plain": [
       "<IPython.core.display.Javascript object>"
      ]
     },
     "metadata": {},
     "output_type": "display_data"
    }
   ],
   "source": [
    "%%js\n",
    "let X = 3;\n",
    "let o =[];\n",
    "function towerhanoi(x , from , to ,aux){\n",
    "  if(x == 0){\n",
    "    return\n",
    "  }\n",
    "towerhanoi(x - 1 , from , aux , to)\n",
    "let t =\"move disk \" + x + \" from \" + from + \" to \" + to + \"   \" + \" ,\";\n",
    "  o.push(t);\n",
    "towerhanoi(x - 1 , aux , to , from)\n",
    "}\n",
    "let y =towerhanoi(X , 'A' , 'C' , 'B')\n",
    "element.text(o)"
   ]
  },
  {
   "cell_type": "code",
   "execution_count": null,
   "id": "a35fed7d",
   "metadata": {},
   "outputs": [],
   "source": [
    "#Q7"
   ]
  },
  {
   "cell_type": "code",
   "execution_count": 71,
   "id": "b2b43a94",
   "metadata": {},
   "outputs": [
    {
     "data": {
      "application/javascript": [
       "let o = \"ABC/-AK/L-*\";\n",
       "function isAlpha(x) {\n",
       "  switch (x) {\n",
       "    case '+':\n",
       "    case '-':\n",
       "    case '/':\n",
       "    case '*':\n",
       "      return true;\n",
       "  }\n",
       "  return false;\n",
       "}\n",
       "let s = [];\n",
       "for (let i = 0; i < o.length ; i++) {\n",
       "\n",
       "  if (isAlpha(o[i])) {\n",
       "    let a = s[s.length-1];\n",
       "    s.pop();\n",
       "    let b = s[s.length-1]\n",
       "    s.pop();\n",
       "    let y = \"(\" +b + o[i] + a + \")\";\n",
       "    s.push(y);\n",
       "  \n",
       "    console.log(y)\n",
       "\n",
       "  }\n",
       "  else {\n",
       "    s.push(o[i])\n",
       "\n",
       "  }\n",
       "} console.log(s);\n",
       "element.text(s)\n",
       "// (A-(B/C)*((A/K)-L)\n"
      ],
      "text/plain": [
       "<IPython.core.display.Javascript object>"
      ]
     },
     "metadata": {},
     "output_type": "display_data"
    }
   ],
   "source": [
    "%%js\n",
    "let o = \"ABC/-AK/L-*\";\n",
    "function isAlpha(x) {\n",
    "  switch (x) {\n",
    "    case '+':\n",
    "    case '-':\n",
    "    case '/':\n",
    "    case '*':\n",
    "      return true;\n",
    "  }\n",
    "  return false;\n",
    "}\n",
    "let s = [];\n",
    "for (let i = 0; i < o.length ; i++) {\n",
    "\n",
    "  if (isAlpha(o[i])) {\n",
    "    let a = s[s.length-1];\n",
    "    s.pop();\n",
    "    let b = s[s.length-1]\n",
    "    s.pop();\n",
    "    let y = \"(\" +b + o[i] + a + \")\";\n",
    "    s.push(y);\n",
    "  \n",
    "    console.log(y)\n",
    "\n",
    "  }\n",
    "  else {\n",
    "    s.push(o[i])\n",
    "\n",
    "  }\n",
    "} console.log(s);\n",
    "element.text(s)\n",
    "// (A-(B/C)*((A/K)-L)"
   ]
  },
  {
   "cell_type": "code",
   "execution_count": null,
   "id": "4b36cad2",
   "metadata": {},
   "outputs": [],
   "source": []
  }
 ],
 "metadata": {
  "kernelspec": {
   "display_name": "Python 3",
   "language": "python",
   "name": "python3"
  },
  "language_info": {
   "codemirror_mode": {
    "name": "ipython",
    "version": 3
   },
   "file_extension": ".py",
   "mimetype": "text/x-python",
   "name": "python",
   "nbconvert_exporter": "python",
   "pygments_lexer": "ipython3",
   "version": "3.8.8"
  }
 },
 "nbformat": 4,
 "nbformat_minor": 5
}
